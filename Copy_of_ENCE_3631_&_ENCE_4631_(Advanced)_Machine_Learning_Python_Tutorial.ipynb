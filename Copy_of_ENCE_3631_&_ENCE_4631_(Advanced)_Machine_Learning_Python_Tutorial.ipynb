{
  "nbformat": 4,
  "nbformat_minor": 0,
  "metadata": {
    "colab": {
      "provenance": [],
      "toc_visible": true
    },
    "kernelspec": {
      "name": "python3",
      "display_name": "Python 3"
    },
    "language_info": {
      "name": "python"
    },
    "accelerator": "GPU",
    "gpuClass": "standard"
  },
  "cells": [
    {
      "cell_type": "markdown",
      "source": [
        "# Python Tutorial\n",
        "\n",
        "This lecture introduces the basic Python skills that help code homework assignment easily.\n",
        "\n",
        "Content \\\\\n",
        "1 Basic Logic \\\\\n",
        "2 DataType \\\\\n",
        "3 Basic Operator \\\\\n",
        "4 Common Statement \\\\\n",
        "5 Define Function \\\\\n",
        "6 Define Class \\\\\n",
        "7 Common Packages \\\\\n",
        "8 Code Used in This Lecture \\\\\n",
        "\n"
      ],
      "metadata": {
        "id": "ibH0gz6NMtgQ"
      }
    },
    {
      "cell_type": "markdown",
      "source": [
        "# 1 Basic Logic\n",
        "\n",
        "1.   inserting pound key # means we are going to comment the code or words after it.\n",
        "2.   = means assignment. We use this symbol to assign the right value to the left variable.\n",
        "3. print is the very common command in programming language. It prints out anything within the quotation mark in the parenthesis.\n"
      ],
      "metadata": {
        "id": "EzM4PAPTOUWB"
      }
    },
    {
      "cell_type": "code",
      "source": [
        "# inserting pound key means we are going to comment the code or words after it. \n",
        "x = 1 # = means assignment. We use this symbol to assign the right value to the left variable.\n",
        "y = x + 3 \n",
        "print(\"There are two variables x and y.\") # Here are two different print methods\n",
        "print(f'x={x}, y={y}') "
      ],
      "metadata": {
        "colab": {
          "base_uri": "https://localhost:8080/"
        },
        "id": "UKOXgcsTMs7y",
        "outputId": "8aac32c8-2b8c-42a8-c7d9-6359351a403d"
      },
      "execution_count": null,
      "outputs": [
        {
          "output_type": "stream",
          "name": "stdout",
          "text": [
            "There are two variables x and y.\n",
            "x=1, y=4\n"
          ]
        }
      ]
    },
    {
      "cell_type": "markdown",
      "source": [
        "# 2 DataType\n",
        "\n",
        "* Text Type: str\n",
        "        anything under quotation mark is defined as string.\n",
        "* Numeric Types: int, float, complex\n",
        "        any length of numeric value + decimal point + any length of numeric value.\n",
        "        complex means plural.\n",
        "* Sequence Types: list, tuple, range\n",
        "        list: [element 1,element 2,...,element n]\n",
        "        tuple: (element 1, element 2). Usually, each tuple has two elements. In python, you can make it more at will.\n",
        "        range: from 0 to the inserted integer value n - 1\n",
        "* Mapping Type: dict\n",
        "        dictionary has one or more key-value pair. The format is key:value. \n",
        "        key: we call this as key-value. Typically, it is string, but it can also be other datatype.\n",
        "        value: we call this as value-value. It can be any datatype.\n",
        "Set Types: set\n",
        "        set: {element 1,element 2,...,element n}.\n",
        "        Different from list, set ignores duplicate values and accepts elements with different datatype.\n",
        "* Boolean Type: bool\n",
        "        True (1) / False (0)\n",
        "* Binary Types: bytes\n",
        "        save binary sequence\n",
        "* None Type: NoneType\n",
        "        NoneType means this value doesn't exist\n",
        "        Null means this value is not defined yet.\n",
        "        They are different.\n",
        "\n",
        "To check the exact datatype, we use type() function."
      ],
      "metadata": {
        "id": "YSKexSmJRTmj"
      }
    },
    {
      "cell_type": "code",
      "execution_count": null,
      "metadata": {
        "colab": {
          "base_uri": "https://localhost:8080/"
        },
        "id": "bSKoqdTnMXR7",
        "outputId": "21dc9a7a-d114-4004-c12a-aabb651f4acf"
      },
      "outputs": [
        {
          "output_type": "stream",
          "name": "stdout",
          "text": [
            "string can be x:[1, 2, 3, 4], not only in a certain format like y.\n",
            "x1 type: <class 'str'> . y1 type: <class 'str'> .\n",
            "x2 is 3.1415926  with the datatype of <class 'float'> ; x3 is 3  with the datatype of <class 'int'> .\n",
            "x4 is [1, 2, 3, 4] . x4 type is <class 'list'>\n",
            "x5 is ('a', 'b', 'c') . x5 type is <class 'tuple'>\n",
            "x6 is range(0, 4) . x6 type is <class 'range'>\n",
            "x7 is {'key1': 2023, 'key2': 'Monday', 'key3': ['score1', 'score2']} . x7 type is <class 'dict'>\n",
            "x8 is False . x8 type is <class 'bool'>\n"
          ]
        }
      ],
      "source": [
        "# string\n",
        "x1 = \"[1, 2, 3, 4]\"\n",
        "y1 = \"not only in a certain format\"\n",
        "print(f'string can be x:{x1}, {y1} like y.')\n",
        "print(\"x1 type:\", type(x1),\". y1 type:\", type(y1),\".\")\n",
        "# number\n",
        "x2 = 3.1415926\n",
        "x3 = round(x2) # round() function helps shake off decimal part\n",
        "print(\"x2 is\",x2,\" with the datatype of\",type(x2),\"; x3 is\",x3,\" with the datatype of\",type(x3),\".\")\n",
        "# sequence\n",
        "x4 = eval(x1) # eval() function helps to convert the string list into list.\n",
        "print(\"x4 is\",x4,\". x4 type is\",type(x4))\n",
        "x5 = (\"a\",\"b\",\"c\")\n",
        "print(\"x5 is\",x5,\". x5 type is\",type(x5))\n",
        "x6 = range(len(x4)) # len() returns the length of the list\n",
        "print(\"x6 is\",x6,\". x6 type is\",type(x6))\n",
        "# dictionary\n",
        "x7 = {\"key1\":2023,\"key2\":\"Monday\",\"key3\":[\"score1\",\"score2\"]}\n",
        "print(\"x7 is\",x7,\". x7 type is\",type(x7))\n",
        "# bool\n",
        "x8 = True\n",
        "print(\"x8 is\",not x8,\". x8 type is\",type(x8)) # not helps change the True value into False one."
      ]
    },
    {
      "cell_type": "markdown",
      "source": [
        "# 3 Basic Operator\n",
        "\n",
        "Arithmetic operators, +, -, \\*, /, %, \\*\\*, // \\\\\n",
        "Assignment operators, +=, -=, *=, /=, %=, **=, //=, &=, |= \\\\\n",
        "Comparison operators, ==, !=, >, <, >=, <= \\\\\n",
        "Logical operators, and, or, not \\\\\n",
        "Identity operators, is, is not \\\\\n",
        "Membership operators, in, not in \\\\\n",
        "Bitwise operators, &,|,~ \\\\"
      ],
      "metadata": {
        "id": "mB7-oV_QjZ6x"
      }
    },
    {
      "cell_type": "code",
      "source": [
        "x3 += x2"
      ],
      "metadata": {
        "id": "A1OLnRgkyUHk"
      },
      "execution_count": null,
      "outputs": []
    },
    {
      "cell_type": "code",
      "source": [
        "# Arithmetic operators and Assignment operators\n",
        "print(\"original x3 is\",x3)\n",
        "x3 += 2 # x3 = x3 + 2\n",
        "print(\"updated x3 is\",x3)\n",
        "x3 *= 2 # x3 = x3 * 2\n",
        "print(\"updated x3 is\",x3)\n",
        "x9 = x3**2 \n",
        "print(\"x9 is\",x9)\n",
        "print(\"x9>x3\",x9>x3)"
      ],
      "metadata": {
        "colab": {
          "base_uri": "https://localhost:8080/"
        },
        "id": "HI8v1fpyM2Ct",
        "outputId": "1d57dd67-179a-4eef-de90-34bff3b31c19"
      },
      "execution_count": null,
      "outputs": [
        {
          "output_type": "stream",
          "name": "stdout",
          "text": [
            "original x3 is 3\n",
            "updated x3 is 5\n",
            "updated x3 is 10\n",
            "x9 is 100\n",
            "x9>x3 True\n"
          ]
        }
      ]
    },
    {
      "cell_type": "markdown",
      "source": [
        "# 4 Common Statement\n",
        "   \n",
        "1. if-else \n",
        "        if criteria_1: \n",
        "            code_here \n",
        "        elif criteria_2: \n",
        "            code_here \n",
        "        else:\n",
        "            code_here\n",
        "2. while loops\n",
        "        while criteria_3:\n",
        "            code_here\n",
        "        \n",
        "3. for loops\n",
        "       for i in sequence_variable:\n",
        "           code_here"
      ],
      "metadata": {
        "id": "VN5obbU2vULt"
      }
    },
    {
      "cell_type": "code",
      "source": [
        "for i in range(1,6, 2):\n",
        "    print(i)"
      ],
      "metadata": {
        "colab": {
          "base_uri": "https://localhost:8080/"
        },
        "id": "zrZtto-tzSqt",
        "outputId": "c7555975-5607-46bd-e55b-f15bffe89d26"
      },
      "execution_count": null,
      "outputs": [
        {
          "output_type": "stream",
          "name": "stdout",
          "text": [
            "1\n",
            "3\n",
            "5\n"
          ]
        }
      ]
    },
    {
      "cell_type": "code",
      "source": [
        "import random # this is the way to import packages. packages can help you code faster and easier\n",
        "# if-else statement\n",
        "x10 = random.randint(0,6)\n",
        "y10 = random.randint(0,6)\n",
        "if y10>x10:\n",
        "    print(\"y10 is bigger.\")\n",
        "elif y10<x10:\n",
        "    print(\"x10 is bigger.\")\n",
        "else:\n",
        "    print(\"x10 equals to y10.\")\n",
        "\n",
        "# while loops\n",
        "i=0\n",
        "x11=[\"Mon\",\"Tue\",\"Wed\",\"Thur\",\"Fri\",\"Sat\",\"Sun\"]\n",
        "print(\"Which day do you like?\")\n",
        "while i<len(x11):\n",
        "    print(x11[i]+\"?\")\n",
        "    i+=1\n",
        "\n",
        "# for loops\n",
        "x12=\"FriesChickenWingBeefRibeyeKababMeatStewBBQDrumsGrilledBeefSteakTunaShrimp\"\n",
        "cnt=0\n",
        "for i in x12:\n",
        "    if i == \"a\":\n",
        "        cnt+=1\n",
        "print(f\"Totally, there are {cnt} a.\")"
      ],
      "metadata": {
        "colab": {
          "base_uri": "https://localhost:8080/"
        },
        "id": "Ov-0FdyRu9NB",
        "outputId": "9e554749-f452-4fce-f265-babf37ceb29c"
      },
      "execution_count": null,
      "outputs": [
        {
          "output_type": "stream",
          "name": "stdout",
          "text": [
            "x10 is bigger.\n",
            "Which day do you like?\n",
            "Mon?\n",
            "Tue?\n",
            "Wed?\n",
            "Thur?\n",
            "Fri?\n",
            "Sat?\n",
            "Sun?\n",
            "Totally, there are 5 a.\n"
          ]
        }
      ]
    },
    {
      "cell_type": "markdown",
      "source": [
        "# 5 Define Function\n",
        "\n",
        "        def func_name(para 1,...,para n):\n",
        "            code here"
      ],
      "metadata": {
        "id": "IrtEVGHB0NzH"
      }
    },
    {
      "cell_type": "code",
      "source": [
        "# function\n",
        "import random\n",
        "def test_num(n):\n",
        "    even_cnt = 0\n",
        "    for i in range(len(n)):\n",
        "        if int(n[i])%2==1:\n",
        "            print(f'{n[i]} is odd number.')\n",
        "        else:\n",
        "            print(f'{n[i]} is even number.')\n",
        "            even_cnt += 1\n",
        "    return even_cnt\n",
        "\n",
        "x13 = str(random.randint(2532453464611414534,6236587946234123412342314453245235242))\n",
        "even_cnt_another_name = test_num(x13)\n",
        "print(even_cnt_another_name)"
      ],
      "metadata": {
        "colab": {
          "base_uri": "https://localhost:8080/"
        },
        "id": "CWqeCbGuw19u",
        "outputId": "53f5844c-1831-4818-df92-6f33b0bbfdcd"
      },
      "execution_count": null,
      "outputs": [
        {
          "output_type": "stream",
          "name": "stdout",
          "text": [
            "1 is odd number.\n",
            "6 is even number.\n",
            "1 is odd number.\n",
            "1 is odd number.\n",
            "4 is even number.\n",
            "6 is even number.\n",
            "9 is odd number.\n",
            "2 is even number.\n",
            "7 is odd number.\n",
            "1 is odd number.\n",
            "7 is odd number.\n",
            "9 is odd number.\n",
            "4 is even number.\n",
            "5 is odd number.\n",
            "2 is even number.\n",
            "4 is even number.\n",
            "6 is even number.\n",
            "7 is odd number.\n",
            "9 is odd number.\n",
            "8 is even number.\n",
            "0 is even number.\n",
            "2 is even number.\n",
            "5 is odd number.\n",
            "0 is even number.\n",
            "8 is even number.\n",
            "2 is even number.\n",
            "1 is odd number.\n",
            "7 is odd number.\n",
            "7 is odd number.\n",
            "7 is odd number.\n",
            "3 is odd number.\n",
            "3 is odd number.\n",
            "6 is even number.\n",
            "7 is odd number.\n",
            "0 is even number.\n",
            "4 is even number.\n",
            "5 is odd number.\n",
            "17\n"
          ]
        }
      ]
    },
    {
      "cell_type": "markdown",
      "source": [
        "# 6 Define Class\n",
        "\n",
        "        class cls_name(Parent class): # Parent Class is optional \n",
        "            def __init__(self, para1, para2, para3):\n",
        "                super().__init__() # super() is optional\n",
        "                self.para1 = para1\n",
        "                self.para2 = para2\n",
        "                self.para3 = para3\n",
        "            def func1(self, para4,para5):\n",
        "                #code here\n",
        "                x14 = self.para1+self.para4\n",
        "                print(x14)\n",
        "                return x14\n",
        "            ...\n",
        "            def func n(self, para4,para5):\n",
        "                # code here\n",
        "                output=self.func1(para4, para5) # this is how we call function within class\n",
        "                return output\n",
        "\n",
        "super() function makes the child class inherit all the methods and properties from its parent.\n",
        "\n",
        "By using the super() function, you do not have to use the name of the parent element, it will automatically inherit the methods and properties from its parent.\n",
        "\n",
        "## apply class\n",
        "        x15 = cls_name(para1, para2, para3) # if __init__() don't take any parameters, we can use cls_name() directly.\n",
        "        y15 = x15.func1(para4,para5) # this is how we apply function outside class"
      ],
      "metadata": {
        "id": "9F4KFy6i3qpu"
      }
    },
    {
      "cell_type": "code",
      "source": [
        "class student_manage():\n",
        "    def __init__(self, Year, Student_Number):\n",
        "        self.year = Year\n",
        "        self.student_number = Student_Number\n",
        "        self.aver_GPA = 0\n",
        "        self.roster = {}\n",
        "        self.roster[1] = []\n",
        "        self.roster[2] = []\n",
        "        self.cnt = 0\n",
        "    def add_one(self, name, gender, GPA, group_id):\n",
        "        if self.cnt > self.student_number:\n",
        "            return \"Stop\"\n",
        "        else:\n",
        "            self.cnt += 1\n",
        "            self.roster[group_id].append([name, gender, GPA]) \n",
        "            print(f'{name} is added.')\n",
        "            return \"add one\"\n",
        "    def generate(self):\n",
        "        return self.roster\n",
        "\n",
        "student_info = student_manage(2023, 100)   \n",
        "x16 = student_info.add_one(\"Tom Ford\", \"Male\", 4.0, 1)\n",
        "print(x16)\n",
        "x17 = student_info.generate()\n",
        "print(x17)"
      ],
      "metadata": {
        "colab": {
          "base_uri": "https://localhost:8080/"
        },
        "id": "7-DiYAx61aZp",
        "outputId": "f932482c-fc00-44ed-973a-70081c1082f7"
      },
      "execution_count": null,
      "outputs": [
        {
          "output_type": "stream",
          "name": "stdout",
          "text": [
            "Tom Ford is added.\n",
            "add one\n",
            "{1: [['Tom Ford', 'Male', 4.0]], 2: []}\n"
          ]
        }
      ]
    },
    {
      "cell_type": "markdown",
      "source": [
        "# 7 Common Packages\n",
        "\n",
        "* System Management Packages \n",
        "        os, shutil, sys\n",
        "\n",
        "* Scientific Operation Packages\n",
        "        einops, math, matplotlib, numpy, pandas, \n",
        "        Pillow, random, scipy, sklearn, time"
      ],
      "metadata": {
        "id": "2okFEVS-3s0B"
      }
    },
    {
      "cell_type": "code",
      "source": [
        "!pip install einops\n",
        "import os, shutil, sys\n",
        "import einops, math, matplotlib, numpy, pandas\n",
        "import PIL, random, scipy, sklearn, time"
      ],
      "metadata": {
        "colab": {
          "base_uri": "https://localhost:8080/"
        },
        "id": "QatRy9hI1b9y",
        "outputId": "1673528f-b48c-4d1e-b487-25ee1d3d5d64"
      },
      "execution_count": null,
      "outputs": [
        {
          "output_type": "stream",
          "name": "stdout",
          "text": [
            "Looking in indexes: https://pypi.org/simple, https://us-python.pkg.dev/colab-wheels/public/simple/\n",
            "Collecting einops\n",
            "  Downloading einops-0.6.0-py3-none-any.whl (41 kB)\n",
            "\u001b[2K     \u001b[90m━━━━━━━━━━━━━━━━━━━━━━━━━━━━━━━━━━━━━━━━\u001b[0m \u001b[32m41.6/41.6 KB\u001b[0m \u001b[31m3.5 MB/s\u001b[0m eta \u001b[36m0:00:00\u001b[0m\n",
            "\u001b[?25hInstalling collected packages: einops\n",
            "Successfully installed einops-0.6.0\n"
          ]
        }
      ]
    },
    {
      "cell_type": "markdown",
      "source": [
        "# 8 Assemble All Together"
      ],
      "metadata": {
        "id": "XEezTpOYFrTH"
      }
    },
    {
      "cell_type": "code",
      "source": [
        "class student_manage():\n",
        "    def __init__(self, Year, Student_Number):\n",
        "        self.year = Year\n",
        "        self.student_number = Student_Number\n",
        "        self.aver_GPA = 0\n",
        "        self.roster = {}\n",
        "        self.roster[\"1\"] = []\n",
        "        self.roster[\"2\"] = []\n",
        "        self.cnt = 0\n",
        "    def add_one(self, name, gender, GPA, group_id):\n",
        "        if self.cnt > self.student_number:\n",
        "            return \"Stop\"\n",
        "        else:\n",
        "            self.cnt += 1\n",
        "            self.roster[str(group_id)].append([name, gender, GPA]) \n",
        "            print(f'{name} is added.')\n",
        "            return \"add one\"\n",
        "    def get_aver_GPA(self):\n",
        "        all_GPA = 0\n",
        "        self.grp_GPA_lst = []\n",
        "        for k,v in self.roster.items():\n",
        "            print(\"Working on group %d now.\" %(int(k)))\n",
        "            grp_GPA = 0\n",
        "            grp_len = len(v)\n",
        "            for each_st in v:\n",
        "                grp_GPA += each_st[2]\n",
        "            grp_aver_GPA = grp_GPA/grp_len\n",
        "            self.grp_GPA_lst.append(grp_aver_GPA)\n",
        "            print(\"The average GPA of group %.2f is \" %(grp_aver_GPA))\n",
        "            all_GPA += grp_aver_GPA\n",
        "        print(\"The average GPA for two groups is:\",\"{:2f}\".format(all_GPA/2))\n",
        "        return self.grp_GPA_lst\n",
        "    def group_compare(self):\n",
        "        GPA_lst = self.get_aver_GPA()\n",
        "        if GPA_lst[0]>GPA_lst[1]:\n",
        "            print(\"Group 1 has higher average GPA.\")\n",
        "        else:\n",
        "            print(\"Group 2 has higher average GPA.\")\n",
        "    def generate(self):\n",
        "        return self.roster"
      ],
      "metadata": {
        "id": "EV-z7nPE5PLs"
      },
      "execution_count": null,
      "outputs": []
    },
    {
      "cell_type": "code",
      "source": [
        "import random\n",
        "name_lst = [\"Student_1\",\"Student_2\",\"Student_3\",\"Student_4\",\"Student_5\",\"Student_6\",\"Student_7\",\"Student_8\",\"Student_9\",\"Student_10\",\"Student_11\",\"Student_12\",\"Student_13\",\"Student_14\",\"Student_15\",\"Student_16\",\"Student_17\",\"Student_18\",\"Student_19\",\"Student_20\"]\n",
        "gender_lst = [\"Male\", \"Female\",\"Male\", \"Female\",\"Male\", \"Female\",\"Male\", \"Female\",\"Male\", \"Female\",\"Male\", \"Female\",\"Male\", \"Female\",\"Male\", \"Female\",\"Male\", \"Female\",\"Male\", \"Female\"]\n",
        "GPA_lst = [round(random.uniform(0, 4), 2) for _ in range(20)]\n",
        "id_lst = [random.randint(1,2) for _ in range(20)]\n",
        "print(GPA_lst)\n",
        "print(id_lst)\n",
        "\n",
        "student_info = student_manage(2023, 15)   \n",
        "\n",
        "for j in range(20):\n",
        "    x18=student_info.add_one(name_lst[j],gender_lst[j],GPA_lst[j],id_lst[j])\n",
        "    if x18 == \"Stop\":\n",
        "        x18 = 20\n",
        "\n",
        "x19 = student_info.generate()\n",
        "print(x19)\n",
        "student_info.group_compare()\n"
      ],
      "metadata": {
        "colab": {
          "base_uri": "https://localhost:8080/"
        },
        "id": "f_kkkETKJ5-V",
        "outputId": "0d0ffd24-f0d2-49fd-d62e-a2eddcde64d7"
      },
      "execution_count": null,
      "outputs": [
        {
          "output_type": "stream",
          "name": "stdout",
          "text": [
            "[3.28, 2.23, 3.91, 4.0, 0.32, 2.06, 1.28, 0.56, 3.59, 0.92, 3.63, 0.21, 2.97, 1.8, 2.58, 2.13, 2.21, 2.77, 3.58, 0.01]\n",
            "[1, 2, 1, 1, 1, 2, 1, 2, 2, 2, 1, 1, 2, 2, 1, 2, 1, 1, 2, 2]\n",
            "Student_1 is added.\n",
            "Student_2 is added.\n",
            "Student_3 is added.\n",
            "Student_4 is added.\n",
            "Student_5 is added.\n",
            "Student_6 is added.\n",
            "Student_7 is added.\n",
            "Student_8 is added.\n",
            "Student_9 is added.\n",
            "Student_10 is added.\n",
            "Student_11 is added.\n",
            "Student_12 is added.\n",
            "Student_13 is added.\n",
            "Student_14 is added.\n",
            "Student_15 is added.\n",
            "Student_16 is added.\n",
            "{'1': [['Student_1', 'Male', 3.28], ['Student_3', 'Male', 3.91], ['Student_4', 'Female', 4.0], ['Student_5', 'Male', 0.32], ['Student_7', 'Male', 1.28], ['Student_11', 'Male', 3.63], ['Student_12', 'Female', 0.21], ['Student_15', 'Male', 2.58]], '2': [['Student_2', 'Female', 2.23], ['Student_6', 'Female', 2.06], ['Student_8', 'Female', 0.56], ['Student_9', 'Male', 3.59], ['Student_10', 'Female', 0.92], ['Student_13', 'Male', 2.97], ['Student_14', 'Female', 1.8], ['Student_16', 'Female', 2.13]]}\n",
            "Working on group 1 now.\n",
            "The average GPA of group 2.40 is \n",
            "Working on group 2 now.\n",
            "The average GPA of group 2.03 is \n",
            "The average GPA for two groups is: 2.216875\n",
            "Group 1 has higher average GPA.\n"
          ]
        }
      ]
    },
    {
      "cell_type": "markdown",
      "source": [
        "# 9 Hidden Chapter\n",
        "\n",
        "A More Practical but Wrong Example"
      ],
      "metadata": {
        "id": "2_r7wyyK2vsA"
      }
    },
    {
      "cell_type": "code",
      "source": [
        "# add noise to images \n",
        "def add_noisy(image):\n",
        "    ch,row,col = np.shape(image)\n",
        "    mean = 0\n",
        "    var = 0.01\n",
        "    sigma = var**0.5\n",
        "    gauss = np.random.normal(mean,sigma,(ch,row,col)) \n",
        "    gauss = np.reshape(gauss,(ch,row,col))\n",
        "    noisy = image + gauss\n",
        "    return noisy"
      ],
      "metadata": {
        "id": "rt9ALRYh3CF6"
      },
      "execution_count": null,
      "outputs": []
    },
    {
      "cell_type": "code",
      "source": [
        "num_test = len(y_test)\n",
        "num_correct = np.sum(y_pred == y_test)\n",
        "print('Got %d / %d correct' % (num_correct, num_test)) \n",
        "print('Accuracy = %f' % (np.mean(y_test == y_pred)))"
      ],
      "metadata": {
        "colab": {
          "base_uri": "https://localhost:8080/"
        },
        "id": "4KVdTep74jf7",
        "outputId": "3191d4f5-9fcc-4b82-a429-d86efa8d205d"
      },
      "execution_count": null,
      "outputs": [
        {
          "output_type": "stream",
          "name": "stdout",
          "text": [
            "Got 8527 / 10000 correct\n",
            "Accuracy = 0.852700\n"
          ]
        }
      ]
    },
    {
      "cell_type": "code",
      "source": [],
      "metadata": {
        "id": "CVYhi37o41bp"
      },
      "execution_count": null,
      "outputs": []
    }
  ]
}